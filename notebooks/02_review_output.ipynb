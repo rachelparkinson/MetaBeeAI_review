{
 "cells": [
  {
   "cell_type": "markdown",
   "metadata": {},
   "source": [
    "Analyses on the output data"
   ]
  },
  {
   "cell_type": "code",
   "execution_count": 1,
   "metadata": {},
   "outputs": [],
   "source": [
    "import pandas as pd\n",
    "import matplotlib.pyplot as plt"
   ]
  },
  {
   "cell_type": "markdown",
   "metadata": {},
   "source": [
    "Load data and extract domain prefixes"
   ]
  },
  {
   "cell_type": "code",
   "execution_count": 2,
   "metadata": {},
   "outputs": [],
   "source": [
    "# Load the cleaned dataset\n",
    "cleaned_dataset_path = \"../output/cleaned_merged_dataset.csv\"\n",
    "data = pd.read_csv(cleaned_dataset_path)\n",
    "\n",
    "# Extract domain prefixes and their associated columns\n",
    "domains = {\n",
    "    \"molec\": [col for col in data.columns if col.startswith(\"molec_\")],\n",
    "    \"subin\": [col for col in data.columns if col.startswith(\"subin_\")],\n",
    "    \"indiv\": [col for col in data.columns if col.startswith(\"indiv_\")],\n",
    "    \"popul\": [col for col in data.columns if col.startswith(\"popul_\")],\n",
    "    \"commu\": [col for col in data.columns if col.startswith(\"commu_\")],\n",
    "    \"letha\": [col for col in data.columns if col.startswith(\"letha_\")],\n",
    "}"
   ]
  },
  {
   "cell_type": "markdown",
   "metadata": {},
   "source": [
    "Step 1: Count the number of papers marked as \"Included\" in each domain"
   ]
  },
  {
   "cell_type": "code",
   "execution_count": 3,
   "metadata": {},
   "outputs": [
    {
     "data": {
      "image/png": "[encoded data removed]",
      "text/plain": [
       "<Figure size 1000x600 with 1 Axes>"
      ]
     },
     "metadata": {},
     "output_type": "display_data"
    },
    {
     "name": "stdout",
     "output_type": "stream",
     "text": [
      "{'molec': np.int64(257), 'subin': np.int64(234), 'indiv': np.int64(296), 'popul': np.int64(206), 'commu': np.int64(32), 'letha': np.int64(263)}\n"
     ]
    }
   ],
   "source": [
    "domain_counts = {domain: (data[cols] == 1).any(axis=1).sum() for domain, cols in domains.items()}\n",
    "\n",
    "# Plot the bar chart\n",
    "plt.figure(figsize=(10, 6))\n",
    "plt.bar(domain_counts.keys(), domain_counts.values(), alpha=0.8)\n",
    "plt.title(\"Number of Papers Marked as Included (1) per Domain\")\n",
    "plt.xlabel(\"Domain\")\n",
    "plt.ylabel(\"Count of Included Papers\")\n",
    "plt.xticks(rotation=45)\n",
    "plt.tight_layout()\n",
    "plt.show()\n",
    "\n",
    "print(domain_counts)"
   ]
  },
  {
   "cell_type": "markdown",
   "metadata": {},
   "source": [
    "Step 2: Calculate reviewer agreement within each domain"
   ]
  },
  {
   "cell_type": "code",
   "execution_count": 4,
   "metadata": {},
   "outputs": [
    {
     "name": "stdout",
     "output_type": "stream",
     "text": [
      "\n",
      "Pairwise Reviewer Agreement with Proportion Agreed:\n",
      "   Domain         Reviewer Pair  Agreed  Disagreed  Proportion Agreed\n",
      "0   molec  molec_AH vs molec_AJ     241         66           0.785016\n",
      "1   molec  molec_AH vs molec_EA     235         78           0.750799\n",
      "2   molec  molec_AJ vs molec_EA     294        107           0.733167\n",
      "3   subin  subin_RP vs subin_RT      72         28           0.720000\n",
      "4   indiv  indiv_AB vs indiv_RP      75         21           0.781250\n",
      "5   popul  popul_CB vs popul_RP      19          4           0.826087\n",
      "6   commu  commu_AB vs commu_RP      84         15           0.848485\n",
      "7   letha  letha_ER vs letha_ES      37         10           0.787234\n",
      "8   letha  letha_ER vs letha_NN     122         20           0.859155\n",
      "9   letha  letha_ER vs letha_RP      48          2           0.960000\n",
      "10  letha  letha_ES vs letha_NN      50          0           1.000000\n",
      "11  letha  letha_ES vs letha_RP       0          1           0.000000\n",
      "12  letha  letha_NN vs letha_RP      45          2           0.957447\n",
      "\n",
      "Pairwise reviewer agreement data saved to 'pairwise_reviewer_agreement_with_proportion.csv'\n"
     ]
    }
   ],
   "source": [
    "# Initialize a dictionary for reviewer pairwise agreement counts\n",
    "pairwise_agreement_counts = {}\n",
    "\n",
    "for domain, cols in domains.items():\n",
    "    if len(cols) == 2:  # Domains with exactly 2 reviewers\n",
    "        # Drop rows where either reviewer has NaN\n",
    "        domain_data = data[cols].dropna()\n",
    "\n",
    "        # Count agreements and disagreements between the two reviewers\n",
    "        agree = (domain_data[cols[0]] == domain_data[cols[1]]).sum()\n",
    "        disagree = len(domain_data) - agree\n",
    "\n",
    "        # Store results for this domain\n",
    "        pairwise_agreement_counts[domain] = {f\"{cols[0]} vs {cols[1]}\": {\"Agreed\": agree, \"Disagreed\": disagree}}\n",
    "\n",
    "    elif len(cols) == 3:  # Domains with 3 reviewers\n",
    "        # Pairwise comparison for 3 reviewers: (1 vs 2), (1 vs 3), (2 vs 3)\n",
    "        pairwise_results = {}\n",
    "        for i in range(len(cols)):\n",
    "            for j in range(i + 1, len(cols)):\n",
    "                # Drop rows where either reviewer in the pair has NaN\n",
    "                domain_data = data[[cols[i], cols[j]]].dropna()\n",
    "\n",
    "                # Count agreements and disagreements for this pair\n",
    "                agree = (domain_data[cols[i]] == domain_data[cols[j]]).sum()\n",
    "                disagree = len(domain_data) - agree\n",
    "\n",
    "                # Store results for this pair\n",
    "                pair_key = f\"{cols[i]} vs {cols[j]}\"\n",
    "                pairwise_results[pair_key] = {\"Agreed\": agree, \"Disagreed\": disagree}\n",
    "\n",
    "        # Store results for this domain\n",
    "        pairwise_agreement_counts[domain] = pairwise_results\n",
    "\n",
    "    elif len(cols) == 4:  # Lethal domain with 4 reviewers\n",
    "        # Pairwise comparison for 4 reviewers: (1 vs 2), (1 vs 3), ..., (3 vs 4)\n",
    "        pairwise_results = {}\n",
    "        for i in range(len(cols)):\n",
    "            for j in range(i + 1, len(cols)):\n",
    "                # Drop rows where either reviewer in the pair has NaN\n",
    "                domain_data = data[[cols[i], cols[j]]].dropna()\n",
    "\n",
    "                # Count agreements and disagreements for this pair\n",
    "                agree = (domain_data[cols[i]] == domain_data[cols[j]]).sum()\n",
    "                disagree = len(domain_data) - agree\n",
    "\n",
    "                # Store results for this pair\n",
    "                pair_key = f\"{cols[i]} vs {cols[j]}\"\n",
    "                pairwise_results[pair_key] = {\"Agreed\": agree, \"Disagreed\": disagree}\n",
    "\n",
    "        # Store results for this domain\n",
    "        pairwise_agreement_counts[domain] = pairwise_results\n",
    "\n",
    "# Convert pairwise_agreement_counts into a more readable format\n",
    "results = []\n",
    "for domain, pairs in pairwise_agreement_counts.items():\n",
    "    for pair, counts in pairs.items():\n",
    "        total = counts[\"Agreed\"] + counts[\"Disagreed\"]\n",
    "        proportion_agreed = counts[\"Agreed\"] / total if total > 0 else 0\n",
    "        results.append({\n",
    "            \"Domain\": domain,\n",
    "            \"Reviewer Pair\": pair,\n",
    "            \"Agreed\": counts[\"Agreed\"],\n",
    "            \"Disagreed\": counts[\"Disagreed\"],\n",
    "            \"Proportion Agreed\": proportion_agreed\n",
    "        })\n",
    "\n",
    "pairwise_agreement_df = pd.DataFrame(results)\n",
    "\n",
    "# Print the pairwise agreement table with proportion agreed\n",
    "print(\"\\nPairwise Reviewer Agreement with Proportion Agreed:\")\n",
    "print(pairwise_agreement_df)\n",
    "\n",
    "# Save the results to a CSV file\n",
    "pairwise_agreement_df.to_csv(\"pairwise_reviewer_agreement_with_proportion.csv\", index=False)\n",
    "print(\"\\nPairwise reviewer agreement data saved to 'pairwise_reviewer_agreement_with_proportion.csv'\")"
   ]
  },
  {
   "cell_type": "markdown",
   "metadata": {},
   "source": [
    "Get average proportion agreed across domains"
   ]
  },
  {
   "cell_type": "code",
   "execution_count": 5,
   "metadata": {},
   "outputs": [
    {
     "name": "stdout",
     "output_type": "stream",
     "text": [
      "Average Proportion Agreed: 0.77\n"
     ]
    }
   ],
   "source": [
    "# Load the CSV file with the pairwise agreement data\n",
    "csv_path = \"pairwise_reviewer_agreement_with_proportion.csv\"\n",
    "agreement_data = pd.read_csv(csv_path)\n",
    "\n",
    "# Calculate the average proportion agreed\n",
    "average_proportion = agreement_data[\"Proportion Agreed\"].mean()\n",
    "\n",
    "# Print the result\n",
    "print(f\"Average Proportion Agreed: {average_proportion:.2f}\")"
   ]
  },
  {
   "cell_type": "markdown",
   "metadata": {},
   "source": [
    "Check to see how often papers were selected in more than one domain"
   ]
  },
  {
   "cell_type": "code",
   "execution_count": 6,
   "metadata": {},
   "outputs": [
    {
     "name": "stdout",
     "output_type": "stream",
     "text": [
      "\n",
      "Summary Table: Papers Marked Relevant in Multiple Domains\n",
      "   Number of Relevant Domains  Paper Count\n",
      "0                           0          186\n",
      "1                           1          525\n",
      "2                           2          270\n",
      "3                           3           57\n",
      "4                           4           13\n"
     ]
    },
    {
     "data": {
      "image/png": "[encoded data removed]",
      "text/plain": [
       "<Figure size 1000x600 with 1 Axes>"
      ]
     },
     "metadata": {},
     "output_type": "display_data"
    }
   ],
   "source": [
    "# Step 1: Summarize the relevant papers across domains\n",
    "# Create a binary matrix where each domain has 1 if the paper is relevant in any column of that domain\n",
    "relevant_by_domain = pd.DataFrame({\n",
    "    domain: (data[cols] == 1).any(axis=1).astype(int) for domain, cols in domains.items()\n",
    "})\n",
    "\n",
    "# Add a column to count the number of domains each paper is marked as relevant\n",
    "relevant_by_domain[\"Relevant_Domain_Count\"] = relevant_by_domain.sum(axis=1)\n",
    "\n",
    "# Step 2: Create a table summarizing the counts\n",
    "relevant_summary = relevant_by_domain[\"Relevant_Domain_Count\"].value_counts().sort_index()\n",
    "relevant_summary_table = relevant_summary.reset_index()\n",
    "relevant_summary_table.columns = [\"Number of Relevant Domains\", \"Paper Count\"]\n",
    "\n",
    "# Display the summary table\n",
    "print(\"\\nSummary Table: Papers Marked Relevant in Multiple Domains\")\n",
    "print(relevant_summary_table)\n",
    "\n",
    "# Step 3: Create a plot\n",
    "\n",
    "plt.figure(figsize=(10, 6))\n",
    "plt.bar(relevant_summary.index, relevant_summary.values, alpha=0.8)\n",
    "plt.title(\"Papers Marked Relevant in Multiple Domains\")\n",
    "plt.xlabel(\"Number of Relevant Domains\")\n",
    "plt.ylabel(\"Paper Count\")\n",
    "plt.xticks(relevant_summary.index)\n",
    "plt.tight_layout()\n",
    "plt.show()"
   ]
  },
  {
   "cell_type": "markdown",
   "metadata": {},
   "source": [
    "Co-occurrence matrix: which domains were selected together most often"
   ]
  },
  {
   "cell_type": "code",
   "execution_count": null,
   "metadata": {},
   "outputs": [],
   "source": [
    "import seaborn as sns\n",
    "import matplotlib.pyplot as plt\n",
    "\n",
    "# Step 1: Filter papers marked relevant in 2 or more domains\n",
    "filtered_data = relevant_by_domain[relevant_by_domain[\"Relevant_Domain_Count\"] >= 2]\n",
    "\n",
    "# Step 2: Calculate co-occurrences between domains\n",
    "co_occurrence_matrix = filtered_data[domains.keys()].T.dot(filtered_data[domains.keys()])\n",
    "co_occurrence_matrix = co_occurrence_matrix.astype(int)\n",
    "\n",
    "# Convert matrix to a DataFrame for display\n",
    "co_occurrence_df = pd.DataFrame(co_occurrence_matrix, index=domains.keys(), columns=domains.keys())\n",
    "\n",
    "# Step 3: Display co-occurrence matrix\n",
    "print(\"\\nCo-Occurrence Matrix: Relevant Papers Across Domains\")\n",
    "print(co_occurrence_df)\n",
    "\n",
    "# Step 4: Visualize co-occurrences with a heatmap\n",
    "plt.figure(figsize=(8, 6))\n",
    "sns.heatmap(co_occurrence_df, annot=True, fmt=\"d\", cmap=\"Blues\", cbar=True)\n",
    "plt.title(\"Co-Occurrence of Relevant Papers Between Domains\")\n",
    "plt.xlabel(\"Domain\")\n",
    "plt.ylabel(\"Domain\")\n",
    "plt.tight_layout()\n",
    "plt.show()\n"
   ]
  }
 ],
 "metadata": {
  "kernelspec": {
   "display_name": ".venv",
   "language": "python",
   "name": "python3"
  },
  "language_info": {
   "codemirror_mode": {
    "name": "ipython",
    "version": 3
   },
   "file_extension": ".py",
   "mimetype": "text/x-python",
   "name": "python",
   "nbconvert_exporter": "python",
   "pygments_lexer": "ipython3",
   "version": "3.11.9"
  }
 },
 "nbformat": 4,
 "nbformat_minor": 2
}
