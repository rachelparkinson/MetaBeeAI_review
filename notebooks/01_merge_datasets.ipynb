{
 "cells": [
  {
   "cell_type": "code",
   "execution_count": 4,
   "metadata": {},
   "outputs": [],
   "source": [
    "import os\n",
    "import pandas as pd"
   ]
  },
  {
   "cell_type": "markdown",
   "metadata": {},
   "source": [
    "Define paths for input data and output and load data"
   ]
  },
  {
   "cell_type": "code",
   "execution_count": 5,
   "metadata": {},
   "outputs": [],
   "source": [
    "input_dataset_path = \"../data/input_dataset.csv\"\n",
    "\n",
    "# Load input dataset\n",
    "input_df = pd.read_csv(input_dataset_path)"
   ]
  },
  {
   "cell_type": "markdown",
   "metadata": {},
   "source": [
    "Check the first few rows of the input dataset."
   ]
  },
  {
   "cell_type": "code",
   "execution_count": null,
   "metadata": {},
   "outputs": [],
   "source": [
    "print(\"Input Dataset:\")\n",
    "display(input_df.head())"
   ]
  },
  {
   "cell_type": "markdown",
   "metadata": {},
   "source": [
    "Step 2: Find and load the ASReview output files. Iterate through each subfolder in asreview_output. Find csv files and merge with input dataset."
   ]
  },
  {
   "cell_type": "code",
   "execution_count": 7,
   "metadata": {},
   "outputs": [],
   "source": [
    "asreview_output_path = \"../data/asreview_output\"\n",
    "\n",
    "# Iterate through each subfolder in asreview_output\n",
    "for subfolder in os.listdir(asreview_output_path):\n",
    "    subfolder_path = os.path.join(asreview_output_path, subfolder)\n",
    "    \n",
    "    # Check if it's a directory\n",
    "    if os.path.isdir(subfolder_path):\n",
    "        # List all CSV files in the subfolder\n",
    "        for file_name in os.listdir(subfolder_path):\n",
    "            if file_name.endswith(\".csv\"):\n",
    "                file_path = os.path.join(subfolder_path, file_name)\n",
    "                \n",
    "                # Load the output CSV file\n",
    "                output_df = pd.read_csv(file_path)\n",
    "                \n",
    "                # Check if the output file contains the required columns\n",
    "                if 'title' in output_df.columns and 'included' in output_df.columns:\n",
    "                    # Extract only the \"title\" and \"included\" columns\n",
    "                    temp_df = output_df[['title', 'included']].copy()\n",
    "                    \n",
    "                    # Rename the \"included\" column to the filename (without \".csv\")\n",
    "                    column_name = file_name.replace(\".csv\", \"\")\n",
    "                    temp_df.rename(columns={\"included\": column_name}, inplace=True)\n",
    "                    \n",
    "                    # Merge with the input dataset using the \"title\" column\n",
    "                    input_df = input_df.merge(temp_df, on='title', how='left')"
   ]
  },
  {
   "cell_type": "markdown",
   "metadata": {},
   "source": [
    "Display and save output as .csv"
   ]
  },
  {
   "cell_type": "code",
   "execution_count": null,
   "metadata": {},
   "outputs": [],
   "source": [
    "output_path = \"../output/merged_dataset.csv\"\n",
    "input_df.to_csv(output_path, index=False)\n",
    "\n",
    "print(f\"Final merged dataset saved to: {output_path}\")\n",
    "display(input_df.head())"
   ]
  },
  {
   "cell_type": "markdown",
   "metadata": {},
   "source": [
    "Merge any duplicate rows"
   ]
  },
  {
   "cell_type": "code",
   "execution_count": null,
   "metadata": {},
   "outputs": [],
   "source": [
    "# Step 1: Check for duplicates in the merged dataset\n",
    "# Load the merged dataset\n",
    "merged_dataset_path = \"../output/merged_dataset.csv\"\n",
    "merged_df = pd.read_csv(merged_dataset_path)\n",
    "\n",
    "# Step 2: Identify duplicates based on the 'title' column\n",
    "duplicates = merged_df[merged_df.duplicated(subset='title', keep=False)]\n",
    "\n",
    "if not duplicates.empty:\n",
    "    print(\"\\nDuplicated rows detected:\")\n",
    "    display(duplicates)\n",
    "    \n",
    "    # Step 3: Merge duplicated rows by aggregating values\n",
    "    # Here we keep the first non-null value or combine them logically\n",
    "    merged_df = (\n",
    "        merged_df.groupby('title', as_index=False)  # Group by the 'title' column\n",
    "        .first()                                   # Use the first non-duplicated row\n",
    "    )\n",
    "else:\n",
    "    print(\"\\nNo duplicated rows detected.\")\n",
    "\n",
    "# Step 4: Save the cleaned dataset\n",
    "cleaned_output_path = \"../output/cleaned_merged_dataset.csv\"\n",
    "merged_df.to_csv(cleaned_output_path, index=False)\n",
    "\n",
    "print(f\"Cleaned dataset saved to: {cleaned_output_path}\")\n",
    "display(merged_df.head())"
   ]
  },
  {
   "cell_type": "markdown",
   "metadata": {},
   "source": [
    "Create file with papers that aren't in any domain."
   ]
  },
  {
   "cell_type": "code",
   "execution_count": null,
   "metadata": {},
   "outputs": [],
   "source": [
    "# Step 1: Check for papers that are not included in any of the reviews\n",
    "# Load the cleaned merged dataset\n",
    "cleaned_merged_dataset_path = \"../output/cleaned_merged_dataset.csv\"\n",
    "cleaned_merged_df = pd.read_csv(cleaned_merged_dataset_path)\n",
    "\n",
    "# Step 2: Check if any paper is not included in any of the reviews\n",
    "not_included_df = cleaned_merged_df[cleaned_merged_df.iloc[:, 4:].isnull().all(axis=1)]\n",
    "\n",
    "# Step 3: Save the dataset with papers that are not included in any of the reviews\n",
    "not_included_output_path = \"../output/not_included_papers.csv\"\n",
    "not_included_df.to_csv(not_included_output_path, index=False)\n"
   ]
  }
 ],
 "metadata": {
  "kernelspec": {
   "display_name": ".venv",
   "language": "python",
   "name": "python3"
  },
  "language_info": {
   "codemirror_mode": {
    "name": "ipython",
    "version": 3
   },
   "file_extension": ".py",
   "mimetype": "text/x-python",
   "name": "python",
   "nbconvert_exporter": "python",
   "pygments_lexer": "ipython3",
   "version": "3.11.9"
  }
 },
 "nbformat": 4,
 "nbformat_minor": 2
}
